{
 "cells": [
  {
   "cell_type": "code",
   "execution_count": 9,
   "metadata": {},
   "outputs": [],
   "source": [
    "import pandas as pd\n",
    "import matplotlib.pyplot as plt\n",
    "import os\n",
    "\n",
    "base_dir = \"C:\\\\Users\\\\nitin\\\\eclipse-workspace\\\\consensus-deep-learning-version-2.0\\\\data\\\\madelon\\\\results\"\n",
    "\n",
    "paths = [os.path.join(base_dir, \"results_{}.csv\".format(i)) for i in range(1,3)]\n",
    "dfs = [pd.read_csv(p, header=0) for p in paths]\n",
    "# df2 = pd.read_csv(paths[1], header=0)\n",
    "# df3 = pd.read_csv(paths[2], header=0)"
   ]
  },
  {
   "cell_type": "code",
   "execution_count": 10,
   "metadata": {},
   "outputs": [
    {
     "data": {
      "image/png": "[encoded data removed]",
      "text/plain": [
       "<Figure size 432x288 with 1 Axes>"
      ]
     },
     "metadata": {
      "needs_background": "light"
     },
     "output_type": "display_data"
    }
   ],
   "source": [
    "fig, ax = plt.subplots()\n",
    "# df = df[df[\"Iter\"]%20==0]\n",
    "for i in range(len(dfs)):\n",
    "    num_nodes = len(set(dfs[i][\"node\"].values))\n",
    "    dfs[i][dfs[i][\"iter\"] < 7000].groupby([\"iter\"]).mean()[\"overall_test_auc\"].plot(ax=ax, label = \"test_auc_\" + str(num_nodes), legend=True)\n",
    "    #dfs[i][dfs[i][\"iter\"] < 7000].groupby([\"iter\"]).mean()[\"overall_train_auc\"].plot(ax=ax, label = \"train_auc_\" + str(num_nodes), legend=True)\n",
    "# df2[df2[\"iter\"] < 7000].groupby([\"iter\"]).mean()[\"overall_test_accuracy\"].plot(ax=ax, label='num_nodes=4', legend=True)\n",
    "# df3[df3[\"iter\"] < 7000].groupby([\"iter\"]).mean()[\"overall_test_accuracy\"].plot(ax=ax, label='num_nodes=6', legend=True)"
   ]
  },
  {
   "cell_type": "code",
   "execution_count": 29,
   "metadata": {},
   "outputs": [
    {
     "data": {
      "application/vnd.jupyter.widget-view+json": {
       "model_id": "3e3d9da98b7f4e22bca1a19649f4d8c5",
       "version_major": 2,
       "version_minor": 0
      },
      "text/plain": [
       "HBox(children=(IntProgress(value=0, max=4), HTML(value='')))"
      ]
     },
     "metadata": {},
     "output_type": "display_data"
    },
    {
     "name": "stdout",
     "output_type": "stream",
     "text": [
      "\n"
     ]
    }
   ],
   "source": [
    "from tqdm import tqdm_notebook\n",
    "def rename_columns(path, opath):\n",
    "    df = pd.read_csv(path, header=None)\n",
    "    df.columns = [\"label\"] + list(range(1,len(df.columns)))\n",
    "    df.to_csv(opath, index=False)\n",
    "    \n",
    "    \n",
    "paths = [\"C://Users//nitin//eclipse-workspace//consensus-deep-learning-version-2.0//data//dexter/feature_split_2/dexter_test_binary.csv\",\n",
    "        \"C://Users//nitin//eclipse-workspace//consensus-deep-learning-version-2.0//data//dexter/feature_split_2/dexter_train_binary.csv\",\n",
    "        \"C://Users//nitin//eclipse-workspace//consensus-deep-learning-version-2.0//data//gisette/feature_split_2/gisette_test_binary.csv\",\n",
    "        \"C://Users//nitin//eclipse-workspace//consensus-deep-learning-version-2.0//data//gisette/feature_split_2/gisette_train_binary.csv\"]\n",
    "\n",
    "opaths = [\"C://Users//nitin//eclipse-workspace//consensus-deep-learning-version-2.0//data//dexter/dexter_test_binary.csv\",\n",
    "        \"C://Users//nitin//eclipse-workspace//consensus-deep-learning-version-2.0//data//dexter/dexter_train_binary.csv\",\n",
    "        \"C://Users//nitin//eclipse-workspace//consensus-deep-learning-version-2.0//data//gisette/gisette_test_binary.csv\",\n",
    "        \"C://Users//nitin//eclipse-workspace//consensus-deep-learning-version-2.0//data//gisette/gisette_train_binary.csv\"]\n",
    "\n",
    "for i in tqdm_notebook(range(len(paths))):\n",
    "    rename_columns(paths[i], opaths[i])"
   ]
  },
  {
   "cell_type": "code",
   "execution_count": null,
   "metadata": {},
   "outputs": [],
   "source": []
  }
 ],
 "metadata": {
  "kernelspec": {
   "display_name": "Python 3",
   "language": "python",
   "name": "python3"
  },
  "language_info": {
   "codemirror_mode": {
    "name": "ipython",
    "version": 3
   },
   "file_extension": ".py",
   "mimetype": "text/x-python",
   "name": "python",
   "nbconvert_exporter": "python",
   "pygments_lexer": "ipython3",
   "version": "3.7.4"
  }
 },
 "nbformat": 4,
 "nbformat_minor": 2
}
